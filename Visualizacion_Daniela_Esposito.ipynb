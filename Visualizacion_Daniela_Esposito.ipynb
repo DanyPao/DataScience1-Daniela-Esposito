{
  "nbformat": 4,
  "nbformat_minor": 0,
  "metadata": {
    "colab": {
      "provenance": [],
      "toc_visible": true,
      "authorship_tag": "ABX9TyNDZrbGTpEwKCqLsOw3PGww",
      "include_colab_link": true
    },
    "kernelspec": {
      "name": "python3",
      "display_name": "Python 3"
    },
    "language_info": {
      "name": "python"
    }
  },
  "cells": [
    {
      "cell_type": "markdown",
      "metadata": {
        "id": "view-in-github",
        "colab_type": "text"
      },
      "source": [
        "<a href=\"https://colab.research.google.com/github/DanyPao/DataScience1-Daniela-Esposito/blob/main/Visualizacion_Daniela_Esposito.ipynb\" target=\"_parent\"><img src=\"https://colab.research.google.com/assets/colab-badge.svg\" alt=\"Open In Colab\"/></a>"
      ]
    },
    {
      "cell_type": "markdown",
      "source": [
        "# Proyecto: Predicción de climática en Australia (Prediccion de lluvia al dia siguiente)\n",
        "## Alumna:\n",
        "Daniela Paola Espósito\n",
        "## Comisión:\n",
        "61140\n"
      ],
      "metadata": {
        "id": "pqzMeFqe4WYK"
      }
    },
    {
      "cell_type": "markdown",
      "source": [
        "## Librerias"
      ],
      "metadata": {
        "id": "l7Kymcu-_F67"
      }
    },
    {
      "cell_type": "code",
      "execution_count": null,
      "metadata": {
        "id": "oAMkI-uTwML-"
      },
      "outputs": [],
      "source": [
        "import pandas as pd\n",
        "import numpy as np\n",
        "import matplotlib.pyplot as plt\n",
        "import seaborn as sns"
      ]
    },
    {
      "cell_type": "markdown",
      "source": [
        "## Carga de datos"
      ],
      "metadata": {
        "id": "OiPhzPX84Uo-"
      }
    },
    {
      "cell_type": "code",
      "source": [],
      "metadata": {
        "id": "uQgtF7Nh_sR5"
      },
      "execution_count": null,
      "outputs": []
    },
    {
      "cell_type": "markdown",
      "source": [
        "## Descripcion de Variables\n",
        "\n",
        "Location - Nombre de la ciudad de Australia.\n",
        "\n",
        "MinTemp - Temperatura mínima durante un dia en particular. (grados Celsius)\n",
        "\n",
        "MaxTemp - Temperatura máxima durante un día particular. (grados Celsius)\n",
        "\n",
        "Rainfall - Caída de lluvia durante un dia en particular. (milímetros)\n",
        "\n",
        "Evaporation - Evaporacion durante un día en particular. (milímetros)\n",
        "\n",
        "Sunshine - Luz solar durante un dia en particular. (horas)\n",
        "\n",
        "WindGusDir - Dirección de la ráfaga de viento más fuerte en un día en particular. (16 puntos cardinales)\n",
        "\n",
        "WindGuSpeed - Velocidad de la ráfaga de viento más fuerte en un día en particular. (kilometros por hora)\n",
        "\n",
        "WindDir9am - Dirección del viento durante 10 minutos antes de las 9 am. (puntos cardinales)\n",
        "\n",
        "WindDir3pm - Dirección del viento durante 10 minutos antes de las 3 pm. (puntos cardinales)\n",
        "\n",
        "WindSpeed9am - Velocidad del viento durante 10 minutos antes de las 9 am. (Kilómetros por hora)\n",
        "\n",
        "WindSpeed3pm - Velocidad del viento durante 10 minutos antes de las 3 pm. (Kilómetros por hora)\n",
        "\n",
        "Humidity9am - Humedad del viento a las 9 am. (porcentaje)\n",
        "\n",
        "Humidity3pm - Humedad del viento a las 3 pm. (porcentaje)\n",
        "\n",
        "Pressure9am - Presión atmosférica a las 9 am. (hectopascales)\n",
        "\n",
        "Pressure3pm - Presión atmosférica a las 3 pm. (hectopascales)\n",
        "\n",
        "Cloud9am - Partes del cielo oscurecidas por nubes a las 9 am. (octavos)\n",
        "\n",
        "Cloud3pm - Partes del cielo oscurecidas por nubes a las 3 pm. (octavos)\n",
        "\n",
        "Temp9am - Temperatura a las 9 am. (grados Celsius)\n",
        "\n",
        "Temp3pm - Temperatura a las 3 pm. (grados Celsius)\n",
        "\n",
        "RainToday - Si hoy llueve, entonces \"Sí\". Si hoy no llueve entonces 'No'.\n",
        "\n",
        "RainTomorrow - Si mañana llueve, entonces 1 (Sí). Si mañana no llueve entonces 0 (No)."
      ],
      "metadata": {
        "id": "Y0C-ZSQNAEqY"
      }
    },
    {
      "cell_type": "markdown",
      "source": [
        "## Normalización"
      ],
      "metadata": {
        "id": "GDVqFOI3_tB_"
      }
    }
  ]
}